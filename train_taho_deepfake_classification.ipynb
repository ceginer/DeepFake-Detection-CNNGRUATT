{
 "cells": [
  {
   "cell_type": "code",
   "execution_count": 1,
   "metadata": {
    "colab": {
     "base_uri": "https://localhost:8080/"
    },
    "executionInfo": {
     "elapsed": 764,
     "status": "ok",
     "timestamp": 1710261740054,
     "user": {
      "displayName": "김성호",
      "userId": "00239474051960738712"
     },
     "user_tz": -540
    },
    "id": "ZREHZZy-3-YU",
    "outputId": "66eb5f4d-7ba9-4191-ad1d-de60d8a23c01"
   },
   "outputs": [
    {
     "name": "stdout",
     "output_type": "stream",
     "text": [
      "/home/hyoju/바탕화면/RealForensics/data/Forensics\n"
     ]
    }
   ],
   "source": [
    "%cd /home/hyoju/바탕화면/RealForensics/data/Forensics"
   ]
  },
  {
   "cell_type": "code",
   "execution_count": 2,
   "metadata": {
    "colab": {
     "base_uri": "https://localhost:8080/"
    },
    "executionInfo": {
     "elapsed": 75655,
     "status": "ok",
     "timestamp": 1710261815708,
     "user": {
      "displayName": "김성호",
      "userId": "00239474051960738712"
     },
     "user_tz": -540
    },
    "id": "w_EyEKDl3Mki",
    "outputId": "346ba824-cb7b-43a2-ab5e-0c84e93767b6"
   },
   "outputs": [
    {
     "name": "stdout",
     "output_type": "stream",
     "text": [
      "Loaded 720 items from ./csv_files/train_fake.csv\n",
      "Loaded 720 items from ./csv_files/train_real.csv\n",
      "Loaded 140 items from ./csv_files/val_fake.csv\n",
      "Loaded 140 items from ./csv_files/val_real.csv\n",
      "Loaded 140 items from ./csv_files/test_fake.csv\n",
      "Loaded 140 items from ./csv_files/test_real.csv\n"
     ]
    }
   ],
   "source": [
    "import pandas as pd\n",
    "import os\n",
    "import cv2\n",
    "import numpy as np\n",
    "from torch.utils.data import Dataset, DataLoader\n",
    "from torchvision.transforms import Compose, Resize, ToTensor\n",
    "import torch\n",
    "import torch.nn as nn\n",
    "import matplotlib.pyplot as plt\n",
    "\n",
    "def load_dataset(file_path, root_dir, label_dirs, frames_limit):\n",
    "    df = pd.read_csv(file_path, delim_whitespace=True, names=['filename', 'label'])\n",
    "    dataset = []\n",
    "    for idx, row in df.iterrows():\n",
    "        video_name = row['filename']\n",
    "        label = row['label']\n",
    "        file_loaded = False  # 파일 로딩 성공 여부를 추적하는 플래그\n",
    "        for label_dir in label_dirs:\n",
    "            full_path = os.path.join(root_dir, label_dir, 'c23', 'cropped_faces', video_name)\n",
    "            if os.path.exists(full_path):\n",
    "                dataset.append((full_path, int(label), frames_limit))\n",
    "                file_loaded = True\n",
    "                break\n",
    "        if not file_loaded:\n",
    "            print(f\"Warning: {video_name} not found in any specified directories.\")\n",
    "    print(f\"Loaded {len(dataset)} items from {file_path}\")\n",
    "    return dataset\n",
    "\n",
    "# 'root_dir'를 현재 작업 디렉토리(.)로 설정\n",
    "root_dir = '.'\n",
    "csv_dir = os.path.join(root_dir, 'csv_files')\n",
    "label_dirs = ['Deepfakes', 'Face2Face', 'FaceShifter', 'FaceSwap', 'NeuralTextures', 'Real']\n",
    "\n",
    "frames_limit=90\n",
    "\n",
    "train_label_dirs = ['Deepfakes', 'Face2Face', 'FaceSwap', 'NeuralTextures', 'Real']  # FaceShifter 제외\n",
    "train_dataset = sum([load_dataset(os.path.join(csv_dir, f'train_{label}.csv'), root_dir, train_label_dirs, frames_limit=frames_limit) for label in ['fake', 'real']], [])\n",
    "\n",
    "val_label_dirs = ['FaceShifter', 'Real']  # FaceShifter와 Real만 포함\n",
    "val_dataset = load_dataset(os.path.join(csv_dir, 'val_fake.csv'), root_dir, val_label_dirs, frames_limit=frames_limit) + \\\n",
    "               load_dataset(os.path.join(csv_dir, 'val_real.csv'), root_dir, val_label_dirs, frames_limit=frames_limit)\n",
    "\n",
    "test_label_dirs = ['FaceShifter', 'Real']  # FaceShifter와 Real만 포함\n",
    "test_dataset = load_dataset(os.path.join(csv_dir, 'test_fake.csv'), root_dir, test_label_dirs, frames_limit=frames_limit) + \\\n",
    "               load_dataset(os.path.join(csv_dir, 'test_real.csv'), root_dir, test_label_dirs, frames_limit=frames_limit)"
   ]
  },
  {
   "cell_type": "code",
   "execution_count": 4,
   "metadata": {
    "executionInfo": {
     "elapsed": 2,
     "status": "ok",
     "timestamp": 1710262105491,
     "user": {
      "displayName": "김성호",
      "userId": "00239474051960738712"
     },
     "user_tz": -540
    },
    "id": "zua1h2in3eVI"
   },
   "outputs": [],
   "source": [
    "from torchvision.transforms import RandomCrop, Resize, RandomHorizontalFlip, RandomGrayscale, ToTensor, Compose\n",
    "from torch.utils.data import DataLoader, Dataset, WeightedRandomSampler\n",
    "import cv2\n",
    "import numpy as np\n",
    "import os\n",
    "import pandas as pd\n",
    "from PIL import Image\n",
    "\n",
    "class VideoDataset(Dataset):\n",
    "    def __init__(self, dataset, transform=None):\n",
    "        self.dataset = dataset\n",
    "        self.transform = transform\n",
    "\n",
    "    def __len__(self):\n",
    "        return len(self.dataset)\n",
    "\n",
    "    def __getitem__(self, idx):\n",
    "        video_path, label, frames_limit = self.dataset[idx]\n",
    "        cap = cv2.VideoCapture(video_path)\n",
    "        frames = []\n",
    "        frame_count = 0\n",
    "        while True:\n",
    "            ret, frame = cap.read()\n",
    "            if not ret or frame_count == frames_limit:\n",
    "                break\n",
    "            if self.transform:\n",
    "                # frame을 PIL Image로 변환 후 transform\n",
    "                frame = Image.fromarray(frame)\n",
    "                frame = self.transform(frame)\n",
    "            frames.append(np.array(frame))  # transform 후 다시 numpy 배열로 변환\n",
    "            frame_count += 1\n",
    "        cap.release()\n",
    "\n",
    "        # 프레임 수가 frames_limit보다 적은 경우, 마지막 프레임을 반복하여 추가\n",
    "        while len(frames) < frames_limit:\n",
    "            frames.append(frames[-1])\n",
    "\n",
    "        # 첫 frames_limit 개수의 프레임만 사용\n",
    "        frames = frames[:frames_limit]\n",
    "        frames = np.stack(frames)\n",
    "        #print(f\"Before transpose frames shape: {frames.shape}\")  # (60, 3, 112, 112)\n",
    "        frames = np.transpose(frames, (1, 0, 2, 3))  # 채널 차원을 맞추기 위한 조정 (C, D, H, W)\n",
    "        #print(f\"Final frames shape: {frames.shape}\")  # (60, 3, 112, 112)\n",
    "        return frames, label\n",
    "\n",
    "# 새로운 변환 정의\n",
    "transform = Compose([\n",
    "    RandomCrop(140),\n",
    "    Resize((112, 112)),\n",
    "    #Resize((28, 28)),\n",
    "    RandomHorizontalFlip(p=0.5),\n",
    "    RandomGrayscale(p=0.5),\n",
    "    ToTensor(),\n",
    "])\n",
    "\n",
    "def make_sampler(dataset, num_samples=144, fake_weight=16, real_weight=128):\n",
    "    targets = [label for _, label, _ in dataset] # dataset은 (video_path, label, frames_limit) 튜플의 리스트\n",
    "    weights = [fake_weight if label == 1 else real_weight for label in targets]\n",
    "    sampler = WeightedRandomSampler(weights, num_samples=num_samples, replacement=True)\n",
    "    return sampler\n",
    "\n",
    "batch_size = 32\n",
    "\n",
    "\n",
    "train_sampler = make_sampler(train_dataset)\n",
    "val_sampler = make_sampler(val_dataset, num_samples=len(val_dataset))\n",
    "test_sampler = make_sampler(test_dataset, num_samples=len(test_dataset))\n",
    "\n",
    "train_loader = DataLoader(VideoDataset(train_dataset, transform=transform), batch_size=batch_size, sampler=train_sampler)\n",
    "val_loader = DataLoader(VideoDataset(val_dataset, transform=transform), batch_size=len(val_dataset), sampler=val_sampler)\n",
    "test_loader = DataLoader(VideoDataset(test_dataset, transform=transform), batch_size=len(test_dataset), sampler=test_sampler)"
   ]
  },
  {
   "cell_type": "code",
   "execution_count": 4,
   "metadata": {
    "id": "wcrk6xRF34De"
   },
   "outputs": [
    {
     "data": {
      "text/plain": [
       "'\\nimport torch\\nimport torch.nn as nn\\nimport torch.nn.functional as F\\n\\n# 모델 정의\\nclass Simple3DCNN(nn.Module):\\n    def __init__(self):\\n        super(Simple3DCNN, self).__init__()\\n        self.conv1 = nn.Conv3d(3, 8, kernel_size=(3, 3, 3), stride=(1, 1, 1), padding=(1, 1, 1))\\n        self.pool = nn.MaxPool3d(kernel_size=(2, 2, 2), stride=(2, 2, 2))\\n        self.conv2 = nn.Conv3d(8, 16, kernel_size=(3, 3, 3), stride=(1, 1, 1), padding=(1, 1, 1))\\n        self.fc1 = nn.Linear(16*15*28*28, 512)\\n        self.fc2 = nn.Linear(512, 2)\\n\\n    def forward(self, x):\\n        #print(f\"Initial input shape: {x.shape}\") # 4, 3, 60, 112, 112\\n        x = self.pool(F.relu(self.conv1(x)))\\n        #print(f\"After conv1 shape: {x.shape}\") # 4, 8, 30, 56, 56\\n        x = self.pool(F.relu(self.conv2(x)))\\n        #print(f\"After conv2 shape: {x.shape}\") # 4, 16, 15, 28, 28\\n        x = x.view(x.size(0), -1)  # x.size(0)은 배치 크기, Flatten the tensor\\n        #print(f\"Before FC layers shape: {x.shape}\") # 4, 16*15*28*28\\n        x = F.relu(self.fc1(x))\\n        #print(f\"After fc1 shape: {x.shape}\")\\n        x = self.fc2(x)\\n        #print(f\"Output shape: {x.shape}\")\\n        return x\\n'"
      ]
     },
     "execution_count": 4,
     "metadata": {},
     "output_type": "execute_result"
    }
   ],
   "source": [
    "'''\n",
    "import torch\n",
    "import torch.nn as nn\n",
    "import torch.nn.functional as F\n",
    "\n",
    "# 모델 정의\n",
    "class Simple3DCNN(nn.Module):\n",
    "    def __init__(self):\n",
    "        super(Simple3DCNN, self).__init__()\n",
    "        self.conv1 = nn.Conv3d(3, 8, kernel_size=(3, 3, 3), stride=(1, 1, 1), padding=(1, 1, 1))\n",
    "        self.pool = nn.MaxPool3d(kernel_size=(2, 2, 2), stride=(2, 2, 2))\n",
    "        self.conv2 = nn.Conv3d(8, 16, kernel_size=(3, 3, 3), stride=(1, 1, 1), padding=(1, 1, 1))\n",
    "        self.fc1 = nn.Linear(16*15*28*28, 512)\n",
    "        self.fc2 = nn.Linear(512, 2)\n",
    "\n",
    "    def forward(self, x):\n",
    "        #print(f\"Initial input shape: {x.shape}\") # 4, 3, 60, 112, 112\n",
    "        x = self.pool(F.relu(self.conv1(x)))\n",
    "        #print(f\"After conv1 shape: {x.shape}\") # 4, 8, 30, 56, 56\n",
    "        x = self.pool(F.relu(self.conv2(x)))\n",
    "        #print(f\"After conv2 shape: {x.shape}\") # 4, 16, 15, 28, 28\n",
    "        x = x.view(x.size(0), -1)  # x.size(0)은 배치 크기, Flatten the tensor\n",
    "        #print(f\"Before FC layers shape: {x.shape}\") # 4, 16*15*28*28\n",
    "        x = F.relu(self.fc1(x))\n",
    "        #print(f\"After fc1 shape: {x.shape}\")\n",
    "        x = self.fc2(x)\n",
    "        #print(f\"Output shape: {x.shape}\")\n",
    "        return x\n",
    "'''\n"
   ]
  },
  {
   "cell_type": "code",
   "execution_count": 14,
   "metadata": {
    "executionInfo": {
     "elapsed": 379,
     "status": "ok",
     "timestamp": 1710262112053,
     "user": {
      "displayName": "김성호",
      "userId": "00239474051960738712"
     },
     "user_tz": -540
    },
    "id": "LYsFcA7JtZrb"
   },
   "outputs": [],
   "source": [
    "import torch\n",
    "import torch.nn as nn\n",
    "import torch.nn.functional as F\n",
    "\n",
    "class ConvLSTMCell(nn.Module):\n",
    "    def __init__(self, input_dim, hidden_dim, kernel_size, bias):\n",
    "        \"\"\"\n",
    "        Initialize ConvLSTM cell.\n",
    "\n",
    "        Parameters:\n",
    "            input_dim (int) - Number of channels of input tensor.\n",
    "            hidden_dim (int) - Number of channels of hidden state.\n",
    "            kernel_size (int or (int, int)) - Size of the convolutional kernel.\n",
    "            bias (bool) - Whether or not to add the bias.\n",
    "        \"\"\"\n",
    "        super(ConvLSTMCell, self).__init__()\n",
    "\n",
    "        self.input_dim = input_dim\n",
    "        self.hidden_dim = hidden_dim\n",
    "\n",
    "        self.kernel_size = kernel_size\n",
    "        self.padding = (kernel_size[0] // 2, kernel_size[1] // 2)\n",
    "        self.bias = bias\n",
    "\n",
    "        self.conv = nn.Conv2d(in_channels=self.input_dim + self.hidden_dim,\n",
    "                              out_channels=4 * self.hidden_dim,  # for input_gate, forget_gate, current_state, output_gate\n",
    "                              kernel_size=self.kernel_size,\n",
    "                              padding=self.padding,\n",
    "                              bias=self.bias)\n",
    "\n",
    "    def forward(self, input_tensor, cur_state):\n",
    "        h_cur, c_cur = cur_state\n",
    "\n",
    "        combined = torch.cat([input_tensor, h_cur], dim=1)  # concatenate along channel axis\n",
    "\n",
    "        combined_conv = self.conv(combined)\n",
    "        cc_i, cc_f, cc_o, cc_g = torch.split(combined_conv, self.hidden_dim, dim=1)\n",
    "        i = torch.sigmoid(cc_i)\n",
    "        f = torch.sigmoid(cc_f)\n",
    "        o = torch.sigmoid(cc_o)\n",
    "        g = torch.tanh(cc_g)\n",
    "\n",
    "        c_next = f * c_cur + i * g\n",
    "        h_next = o * torch.tanh(c_next)\n",
    "\n",
    "        return h_next, c_next\n",
    "\n",
    "    def init_hidden(self, batch_size, image_size):\n",
    "        height, width = image_size\n",
    "        return (torch.zeros(batch_size, self.hidden_dim, height, width, device=self.conv.weight.device),\n",
    "                torch.zeros(batch_size, self.hidden_dim, height, width, device=self.conv.weight.device))\n",
    "\n",
    "\n",
    "class SimpleConvLSTMModel(nn.Module):\n",
    "    def __init__(self):\n",
    "        super(SimpleConvLSTMModel, self).__init__()\n",
    "\n",
    "        # ConvLSTM 셀\n",
    "        self.convLSTM1 = ConvLSTMCell(input_dim=3, hidden_dim=32, kernel_size=(3, 3), bias=True)\n",
    "        self.convLSTM2 = ConvLSTMCell(input_dim=32, hidden_dim=64, kernel_size=(3, 3), bias=True)\n",
    "\n",
    "        # average pooling으로 시간적 차원 축소\n",
    "        self.avgPool = nn.AdaptiveAvgPool3d((1, None, None))\n",
    "\n",
    "        # fully connected layer\n",
    "        self.fc1 = nn.Linear(3*60*112*112, 512)\n",
    "        self.fc2 = nn.Linear(512, 2)\n",
    "\n",
    "\n",
    "    def forward(self, x):\n",
    "        # x: (batch_size, channels, depth, height, width)\n",
    "        batch_size, _, depth, height, width = x.size()\n",
    "        #print(f\"Initial input shape: {x.shape}\")\n",
    "\n",
    "        # 초기 상태\n",
    "        h1, c1 = self.convLSTM1.init_hidden(batch_size, (height, width))\n",
    "        #print(f\"After conv1 shape: {x.shape}\")\n",
    "        h2, c2 = self.convLSTM2.init_hidden(batch_size, (height, width))\n",
    "        #print(f\"After conv2 shape: {x.shape}\")\n",
    "\n",
    "        # 모든 시간 스텝을 순회\n",
    "        for t in range(depth):\n",
    "            # 현재 시간 스텝의 프레임을 가져옴\n",
    "            current_frame = x[:, :, t, :, :]\n",
    "            # ConvLSTM 셀을 통과\n",
    "            h1, c1 = self.convLSTM1(current_frame, (h1, c1))\n",
    "            h2, c2 = self.convLSTM2(h1, (h2, c2))\n",
    "\n",
    "        # 시간 차원에 대해 평균 풀링\n",
    "        pooled = self.avgPool(h2.unsqueeze(2))  # (batch_size, channels, 1, height, width)\n",
    "        #print(f\"After pooling shape: {x.shape}\")\n",
    "\n",
    "        # 텐서 평탄화 전의 출력 크기를 동적으로 계산\n",
    "        flat_size = x.size(1) * x.size(2) * x.size(3)\n",
    "        x = x.view(x.size(0), -1)  # 배치 크기를 유지하면서 평탄화\n",
    "        #print(f\"After flattening shape: {x.shape}\")\n",
    "        # 동적으로 계산된 크기를 사용하여 fc 레이어 적용\n",
    "        x = self.fc1(x)\n",
    "        #print(f\"After FC1 layers shape: {x.shape}\")\n",
    "        x = self.fc2(x)\n",
    "        return x\n"
   ]
  },
  {
   "cell_type": "markdown",
   "metadata": {
    "id": "hBTCc1I_RKfR"
   },
   "source": [
    "### conv + lstm layer\n",
    "- default: conv4 lstm1"
   ]
  },
  {
   "cell_type": "code",
   "execution_count": 5,
   "metadata": {
    "executionInfo": {
     "elapsed": 2,
     "status": "ok",
     "timestamp": 1710265881408,
     "user": {
      "displayName": "김성호",
      "userId": "00239474051960738712"
     },
     "user_tz": -540
    },
    "id": "-TejvNMu3wuF"
   },
   "outputs": [],
   "source": [
    "import torch\n",
    "import torch.nn as nn\n",
    "import torch.nn.functional as F\n",
    "\n",
    "# CNN\n",
    "class Simple3DCNN(nn.Module):\n",
    "    def __init__(self):\n",
    "        super(Simple3DCNN, self).__init__()\n",
    "        self.conv1 = nn.Conv3d(3, 8, kernel_size=(3, 3, 3), stride=(1, 1, 1), padding=(1, 1, 1))\n",
    "        self.pool = nn.MaxPool3d(kernel_size=(1, 2, 2), stride=(1, 2, 2))\n",
    "        self.conv2 = nn.Conv3d(8, 16, kernel_size=(3, 3, 3), stride=(1, 1, 1), padding=(1, 1, 1))\n",
    "        self.pool = nn.MaxPool3d(kernel_size=(1, 2, 2), stride=(1, 2, 2))\n",
    "        self.conv3 = nn.Conv3d(16, 32, kernel_size=(3, 3, 3), stride=(1, 1, 1), padding=(1, 1, 1))\n",
    "        self.pool = nn.MaxPool3d(kernel_size=(1, 2, 2), stride=(1, 2, 2))\n",
    "        self.conv4 = nn.Conv3d(32, 64, kernel_size=(3, 3, 3), stride=(1, 1, 1), padding=(1, 1, 1))\n",
    "\n",
    "        self.lstm = nn.LSTM(input_size=64*7*7, hidden_size=128, num_layers=1, batch_first=True)\n",
    "\n",
    "        #self.fc1 = nn.Linear(64*3*3*3, 512)\n",
    "        self.fc = nn.Linear(128, 2)\n",
    "\n",
    "    def forward(self, x):\n",
    "\n",
    "        #print(f\"Initial input shape: {x.shape}\") # 4, 3, 60, 56, 56\n",
    "\n",
    "        x = self.pool(F.relu(self.conv1(x)))\n",
    "        #print(f\"After conv1 shape: {x.shape}\") # 4, 8, 30, 28, 28\n",
    "\n",
    "        x = self.pool(F.relu(self.conv2(x)))\n",
    "        #print(f\"After conv2 shape: {x.shape}\") # 4, 16, 15, 14, 14\n",
    "\n",
    "        x = self.pool(F.relu(self.conv3(x)))\n",
    "        #print(f\"After conv3 shape: {x.shape}\") # 4, 32, 7, 7, 7\n",
    "\n",
    "        x = self.pool(F.relu(self.conv4(x)))\n",
    "        #print(f\"After conv4 shape: {x.shape}\") # 4, 64, 3, 3, 3\n",
    "\n",
    "        # LSTM을 위한 준비: (batch_size, seq_len, features)\n",
    "        x = x.view(x.size(0), x.size(2), -1)  # x.size(0)은 배치 크기, Flatten the tensor\n",
    "        #print(f\"Before LSTM layers shape: {x.shape}\") # 4, 32*3*7*7\n",
    "\n",
    "        # LSTM을 통과\n",
    "        lstm_out, (h_n, c_n) = self.lstm(x)\n",
    "        #print(f\"After LSTM layers shape: {x.shape}\")\n",
    "        x = lstm_out[:, -1, :]  # 시퀀스의 마지막 출력만 사용\n",
    "        #print(f\"시퀀스의 마지막 출력만 사용 이후 shape: {x.shape}\")\n",
    "        #x = F.relu(self.fc1(x))\n",
    "        #print(f\"After fc1 shape: {x.shape}\")\n",
    "        x = self.fc(x)\n",
    "        #print(f\"Output shape: {x.shape}\")\n",
    "        return x\n"
   ]
  },
  {
   "cell_type": "markdown",
   "metadata": {},
   "source": [
    "- conv3, lstm1"
   ]
  },
  {
   "cell_type": "code",
   "execution_count": 12,
   "metadata": {},
   "outputs": [],
   "source": [
    "import torch\n",
    "import torch.nn as nn\n",
    "import torch.nn.functional as F\n",
    "\n",
    "# CNN\n",
    "class Simple3DCNN(nn.Module):\n",
    "    def __init__(self):\n",
    "        super(Simple3DCNN, self).__init__()\n",
    "        self.conv1 = nn.Conv3d(3, 16, kernel_size=(3, 7, 7), stride=(1, 1, 1), padding=(1, 3, 3))\n",
    "        self.pool = nn.MaxPool3d(kernel_size=(1, 2, 2), stride=(1, 2, 2))\n",
    "        self.conv2 = nn.Conv3d(16, 32, kernel_size=(3, 5, 5), stride=(1, 1, 1), padding=(1, 2, 2))\n",
    "        self.pool = nn.MaxPool3d(kernel_size=(1, 2, 2), stride=(1, 2, 2))\n",
    "        self.conv3 = nn.Conv3d(32, 64, kernel_size=(3, 3, 3), stride=(1, 1, 1), padding=(1, 1, 1))\n",
    "        #self.pool = nn.MaxPool3d(kernel_size=(2, 2, 2), stride=(2, 2, 2))\n",
    "        #self.conv4 = nn.Conv3d(32, 64, kernel_size=(3, 3, 3), stride=(1, 1, 1), padding=(1, 1, 1))\n",
    "\n",
    "        self.lstm = nn.LSTM(input_size=64*14*14, hidden_size=128, num_layers=1, batch_first=True)\n",
    "\n",
    "        #self.fc1 = nn.Linear(64*3*3*3, 512)\n",
    "        self.fc = nn.Linear(128, 2)\n",
    "\n",
    "    def forward(self, x):\n",
    "\n",
    "        print(f\"Initial input shape: {x.shape}\") # 4, 3, 60, 56, 56\n",
    "\n",
    "        x = self.pool(F.relu(self.conv1(x)))\n",
    "        print(f\"After conv1 shape: {x.shape}\") # 4, 8, 30, 28, 28\n",
    "\n",
    "        x = self.pool(F.relu(self.conv2(x)))\n",
    "        print(f\"After conv2 shape: {x.shape}\") # 4, 16, 15, 14, 14\n",
    "\n",
    "        x = self.pool(F.relu(self.conv3(x)))\n",
    "        print(f\"After conv3 shape: {x.shape}\") # 4, 32, 7, 7, 7\n",
    "\n",
    "        #x = self.pool(F.relu(self.conv4(x)))\n",
    "        #print(f\"After conv4 shape: {x.shape}\") # 4, 64, 3, 3, 3\n",
    "\n",
    "        # LSTM을 위한 준비: (batch_size, seq_len, features)\n",
    "        x = x.view(x.size(0), x.size(2), -1)  # x.size(0)은 배치 크기, Flatten the tensor\n",
    "        print(f\"Before LSTM layers shape: {x.shape}\") # 4, 32*3*7*7\n",
    "\n",
    "        # LSTM을 통과\n",
    "        lstm_out, (h_n, c_n) = self.lstm(x)\n",
    "        print(f\"After LSTM layers shape: {x.shape}\")\n",
    "        x = lstm_out[:, -1, :]  # 시퀀스의 마지막 출력만 사용\n",
    "        #print(f\"시퀀스의 마지막 출력만 사용 이후 shape: {x.shape}\")\n",
    "        #x = F.relu(self.fc1(x))\n",
    "        print(f\"After fc1 shape: {x.shape}\")\n",
    "        x = self.fc(x)\n",
    "        print(f\"Output shape: {x.shape}\")\n",
    "        return x\n"
   ]
  },
  {
   "cell_type": "markdown",
   "metadata": {},
   "source": [
    "### CSN"
   ]
  },
  {
   "cell_type": "code",
   "execution_count": 8,
   "metadata": {},
   "outputs": [],
   "source": [
    "import torch\n",
    "import torch.nn as nn\n",
    "import torch.nn.functional as F\n",
    "\n",
    "class CSNBottleneck(nn.Module):\n",
    "    expansion = 4\n",
    "\n",
    "    def __init__(self, in_planes, planes, stride=1):\n",
    "        super(CSNBottleneck, self).__init__()\n",
    "        # Assuming stride is a tuple for temporal, height, width dimensions: (T, H, W)\n",
    "        temporal_stride, height_stride, width_stride = stride\n",
    "\n",
    "        self.conv1 = nn.Conv3d(in_planes, planes, kernel_size=1, bias=False)\n",
    "        self.bn1 = nn.BatchNorm3d(planes)\n",
    "        # Using the temporal_stride for the middle conv layer to preserve temporal dimension\n",
    "        self.conv2 = nn.Conv3d(planes, planes, kernel_size=3, stride=(temporal_stride, height_stride, width_stride), padding=1, bias=False)\n",
    "        self.bn2 = nn.BatchNorm3d(planes)\n",
    "        self.conv3 = nn.Conv3d(planes, planes * self.expansion, kernel_size=1, bias=False)\n",
    "        self.bn3 = nn.BatchNorm3d(planes * self.expansion)\n",
    "\n",
    "        self.shortcut = nn.Sequential()\n",
    "        if stride != (1, 1, 1) or in_planes != planes * self.expansion:\n",
    "            self.shortcut = nn.Sequential(\n",
    "                nn.Conv3d(in_planes, planes * self.expansion, kernel_size=1, stride=stride, bias=False),\n",
    "                nn.BatchNorm3d(planes * self.expansion)\n",
    "            )\n",
    "\n",
    "    def forward(self, x):\n",
    "        out = F.relu(self.bn1(self.conv1(x)))\n",
    "        out = F.relu(self.bn2(self.conv2(out)))\n",
    "        out = self.bn3(self.conv3(out))\n",
    "        out += self.shortcut(x)\n",
    "        out = F.relu(out)\n",
    "        return out\n",
    "\n",
    "class CSNResNet(nn.Module):\n",
    "    def __init__(self, block, num_blocks, num_classes=2):\n",
    "        super(CSNResNet, self).__init__()\n",
    "        self.in_planes = 64\n",
    "\n",
    "        self.conv1 = nn.Conv3d(3, 64, kernel_size=(7, 7, 7), stride=(1, 2, 2), padding=(3, 3, 3), bias=False)\n",
    "        self.bn1 = nn.BatchNorm3d(64)\n",
    "        self.pool1 = nn.MaxPool3d(kernel_size=(1, 3, 3), stride=(1, 2, 2), padding=(0, 1, 1))\n",
    "        \n",
    "        self.layer1 = self._make_layer(block, 64, num_blocks[0], stride=(1, 1, 1))\n",
    "        self.layer2 = self._make_layer(block, 128, num_blocks[1], stride=(1, 2, 2))\n",
    "        self.layer3 = self._make_layer(block, 256, num_blocks[2], stride=(1, 2, 2))\n",
    "        self.layer4 = self._make_layer(block, 512, num_blocks[3], stride=(1, 2, 2))\n",
    "\n",
    "        self.pool2 = nn.AdaptiveAvgPool3d((1, 1, 1))\n",
    "        self.fc = nn.Linear(512 * block.expansion, num_classes)\n",
    "\n",
    "    def _make_layer(self, block, planes, num_blocks, stride):\n",
    "        strides = [stride] + [(1, 1, 1)] * (num_blocks - 1)\n",
    "        layers = []\n",
    "        for stride in strides:\n",
    "            layers.append(block(self.in_planes, planes, stride))\n",
    "            self.in_planes = planes * block.expansion\n",
    "        return nn.Sequential(*layers)\n",
    "\n",
    "    def forward(self, x):\n",
    "        out = F.relu(self.bn1(self.conv1(x)))\n",
    "        out = self.pool1(out)\n",
    "        out = self.layer1(out)\n",
    "        out = self.layer2(out)\n",
    "        out = self.layer3(out)\n",
    "        out = self.layer4(out)\n",
    "        out = self.pool2(out)\n",
    "        out = out.view(out.size(0), -1)\n",
    "        out = self.fc(out)\n",
    "        return out\n",
    "\n",
    "def CSNResNet101():\n",
    "    # (3, 4, 23, 3) are the number of blocks in each layer\n",
    "    return CSNResNet(CSNBottleneck, [3, 4, 23, 3])\n"
   ]
  },
  {
   "cell_type": "code",
   "execution_count": 15,
   "metadata": {},
   "outputs": [],
   "source": [
    "'''\n",
    "#### cudnn initializa 오류 발생 시에만 run ####\n",
    "def force_cudnn_initialization():\n",
    "    s = 32\n",
    "    dev = torch.device('cuda')\n",
    "    torch.nn.functional.conv2d(torch.zeros(s, s, s, s, device=dev), torch.zeros(s, s, s, s, device=dev))\n",
    "\n",
    "force_cudnn_initialization()'''"
   ]
  },
  {
   "cell_type": "markdown",
   "metadata": {},
   "source": [
    "### EfficientViT"
   ]
  },
  {
   "cell_type": "code",
   "execution_count": 4,
   "metadata": {},
   "outputs": [
    {
     "name": "stdout",
     "output_type": "stream",
     "text": [
      "/home/daiv/바탕화면/efficientvit\n"
     ]
    }
   ],
   "source": [
    "cd /home/daiv/바탕화면/efficientvit"
   ]
  },
  {
   "cell_type": "code",
   "execution_count": 5,
   "metadata": {},
   "outputs": [],
   "source": [
    "import torch\n",
    "import torch.nn as nn\n",
    "from efficientvit.models.efficientvit.backbone import EfficientViTBackbone\n",
    "from efficientvit.models.utils import build_kwargs_from_config\n",
    "\n",
    "class ClsHead(nn.Module):\n",
    "    def __init__(self, in_channels, width_list, n_classes=2, dropout=0.0, norm=\"bn2d\", act_func=\"hswish\", fid=\"stage_final\"):\n",
    "        super().__init__()\n",
    "        self.in_channels = in_channels\n",
    "        self.width_list = width_list\n",
    "        self.n_classes = n_classes\n",
    "        self.dropout = dropout\n",
    "        self.norm = norm\n",
    "        self.act_func = act_func\n",
    "        self.fid = fid\n",
    "        \n",
    "        self.layers = nn.Sequential(\n",
    "            nn.Conv2d(in_channels, width_list[0], kernel_size=1, bias=False),\n",
    "            nn.BatchNorm2d(width_list[0]),\n",
    "            nn.ReLU(inplace=True),\n",
    "            nn.AdaptiveAvgPool2d(1),\n",
    "            nn.Flatten(),\n",
    "            nn.Dropout(dropout),\n",
    "            nn.Linear(width_list[0], width_list[1]),\n",
    "            nn.ReLU(inplace=True),\n",
    "            nn.Linear(width_list[1], n_classes)\n",
    "        )\n",
    "    \n",
    "    def forward(self, x):\n",
    "        x = self.layers(x)\n",
    "        return x\n",
    "\n",
    "class EfficientViTCls(nn.Module):\n",
    "    def __init__(self, backbone_cfg, head_cfg):\n",
    "        super().__init__()\n",
    "        self.backbone = EfficientViTBackbone(**build_kwargs_from_config(backbone_cfg, EfficientViTBackbone))\n",
    "        self.head = ClsHead(**build_kwargs_from_config(head_cfg, ClsHead))\n",
    "    \n",
    "    def forward(self, x):\n",
    "        x = self.backbone(x)\n",
    "        # Adapt backbone output to match ClsHead input\n",
    "        # This part may require further modification depending on the output of the backbone\n",
    "        x = x['stage_final']  # Assuming that the final output of the backbone is under 'stage_final'\n",
    "        x = self.head(x)\n",
    "        return x\n",
    "\n",
    "class EfficientViTForVideo(nn.Module):\n",
    "    def __init__(self, backbone_cfg, head_cfg, num_frames):\n",
    "        super().__init__()\n",
    "        self.efficientvit_cls = EfficientViTCls(backbone_cfg, head_cfg)\n",
    "        self.num_frames = num_frames\n",
    "    \n",
    "    def forward(self, x):\n",
    "        # x: [batch_size, channels, time, height, width]\n",
    "        batch_size, channels, time, height, width = x.size()\n",
    "        x = x.view(batch_size * time, channels, height, width)  # 5D to 4D\n",
    "        \n",
    "        # 모델에 각 프레임을 독립적으로 전달\n",
    "        predictions = self.efficientvit_cls(x)\n",
    "        \n",
    "        # 각 프레임의 예측 결과를 평균냄\n",
    "        predictions = predictions.view(batch_size, time, -1).mean(1)\n",
    "        return predictions\n",
    "\n",
    "# Example configuration\n",
    "backbone_cfg = {\n",
    "    'width_list': [64, 128, 256, 512, 1024],\n",
    "    'depth_list': [1, 2, 2, 8, 8],\n",
    "    'dim': 64  # This parameter will depend on EfficientViTBackbone and may need to be adjusted\n",
    "}\n",
    "\n",
    "head_cfg = {\n",
    "    'in_channels': 1024,  # This should match the last channel size of the backbone\n",
    "    'width_list': [1024, 1280],\n",
    "    'n_classes': 2,\n",
    "    'dropout': 0.5,\n",
    "    'norm': 'bn2d',\n",
    "    'act_func': 'relu'\n",
    "}"
   ]
  },
  {
   "cell_type": "code",
   "execution_count": 6,
   "metadata": {},
   "outputs": [
    {
     "name": "stdout",
     "output_type": "stream",
     "text": [
      "/home/hyoju/바탕화면/RealForensics/data/Forensics\n"
     ]
    }
   ],
   "source": [
    "%cd /home/hyoju/바탕화면/RealForensics/data/Forensics"
   ]
  },
  {
   "cell_type": "markdown",
   "metadata": {},
   "source": [
    "## Summary"
   ]
  },
  {
   "cell_type": "code",
   "execution_count": 13,
   "metadata": {},
   "outputs": [
    {
     "name": "stdout",
     "output_type": "stream",
     "text": [
      "Initial input shape: torch.Size([1, 3, 25, 112, 112])\n",
      "After conv1 shape: torch.Size([1, 16, 25, 56, 56])\n",
      "After conv2 shape: torch.Size([1, 32, 25, 28, 28])\n",
      "After conv3 shape: torch.Size([1, 64, 25, 14, 14])\n",
      "Before LSTM layers shape: torch.Size([1, 25, 12544])\n",
      "After LSTM layers shape: torch.Size([1, 25, 12544])\n",
      "After fc1 shape: torch.Size([1, 128])\n",
      "Output shape: torch.Size([1, 2])\n"
     ]
    },
    {
     "data": {
      "text/plain": [
       "==========================================================================================\n",
       "Layer (type:depth-idx)                   Output Shape              Param #\n",
       "==========================================================================================\n",
       "Simple3DCNN                              [1, 2]                    --\n",
       "├─Conv3d: 1-1                            [1, 16, 25, 112, 112]     7,072\n",
       "├─MaxPool3d: 1-2                         [1, 16, 25, 56, 56]       --\n",
       "├─Conv3d: 1-3                            [1, 32, 25, 56, 56]       38,432\n",
       "├─MaxPool3d: 1-4                         [1, 32, 25, 28, 28]       --\n",
       "├─Conv3d: 1-5                            [1, 64, 25, 28, 28]       55,360\n",
       "├─MaxPool3d: 1-6                         [1, 64, 25, 14, 14]       --\n",
       "├─LSTM: 1-7                              [1, 25, 128]              6,489,088\n",
       "├─Linear: 1-8                            [1, 2]                    258\n",
       "==========================================================================================\n",
       "Total params: 6,590,210\n",
       "Trainable params: 6,590,210\n",
       "Non-trainable params: 0\n",
       "Total mult-adds (G): 6.48\n",
       "==========================================================================================\n",
       "Input size (MB): 3.76\n",
       "Forward/backward pass size (MB): 70.27\n",
       "Params size (MB): 26.36\n",
       "Estimated Total Size (MB): 100.40\n",
       "=========================================================================================="
      ]
     },
     "execution_count": 13,
     "metadata": {},
     "output_type": "execute_result"
    }
   ],
   "source": [
    "from torchinfo import summary\n",
    "\n",
    "# 모델 인스턴스 생성\n",
    "device = torch.device(\"cuda\" if torch.cuda.is_available() else \"cpu\")\n",
    "model = Simple3DCNN().to(device)\n",
    "#model = CSNResNet101().to(device)\n",
    "#model = EfficientViTForVideo(backbone_cfg, head_cfg,frames_limit).to(device)\n",
    "\n",
    "# 요약 정보 출력\n",
    "summary(model, input_size=(1, 3, 25, 112, 112))"
   ]
  },
  {
   "cell_type": "markdown",
   "metadata": {
    "id": "HNbSOSUiRIZ4"
   },
   "source": [
    "- conv3 + lstm1"
   ]
  },
  {
   "cell_type": "code",
   "execution_count": 53,
   "metadata": {
    "executionInfo": {
     "elapsed": 461,
     "status": "ok",
     "timestamp": 1710279545674,
     "user": {
      "displayName": "김성호",
      "userId": "00239474051960738712"
     },
     "user_tz": -540
    },
    "id": "FQGxHGdRRHG-"
   },
   "outputs": [],
   "source": [
    "import torch\n",
    "import torch.nn as nn\n",
    "import torch.nn.functional as F\n",
    "\n",
    "# CNN\n",
    "class LSTM3DCNN(nn.Module):\n",
    "    def __init__(self):\n",
    "        super(LSTM3DCNN, self).__init__()\n",
    "        self.conv1 = nn.Conv3d(3, 8, kernel_size=(3, 3, 3), stride=(1, 1, 1), padding=(1, 1, 1))\n",
    "        self.pool = nn.MaxPool3d(kernel_size=(2, 2, 2), stride=(2, 2, 2))\n",
    "\n",
    "        self.conv2 = nn.Conv3d(8, 16, kernel_size=(3, 3, 3), stride=(1, 1, 1), padding=(1, 1, 1))\n",
    "        self.pool = nn.MaxPool3d(kernel_size=(2, 2, 2), stride=(2, 2, 2))\n",
    "        self.dropout1 = nn.Dropout(0.2)\n",
    "\n",
    "        self.conv3 = nn.Conv3d(16, 32, kernel_size=(3, 3, 3), stride=(1, 1, 1), padding=(1, 1, 1))\n",
    "        self.dropout2 = nn.Dropout(0.25)\n",
    "        #self.pool = nn.MaxPool3d(kernel_size=(2, 2, 2), stride=(2, 2, 2))\n",
    "        #self.conv4 = nn.Conv3d(32, 64, kernel_size=(3, 3, 3), stride=(1, 1, 1), padding=(1, 1, 1))\n",
    "\n",
    "        self.lstm1 = nn.LSTM(input_size=32*7*7, hidden_size=512, num_layers=1, batch_first=True)\n",
    "        self.lstm2 = nn.LSTM(input_size=512, hidden_size=256, num_layers=1, batch_first=True)\n",
    "\n",
    "        self.fc1 = nn.Linear(256, 32)\n",
    "        self.dropout3 = nn.Dropout(0.2)\n",
    "        self.fc2 = nn.Linear(32, 2)\n",
    "\n",
    "    def forward(self, x):\n",
    "\n",
    "        #print(f\"Initial input shape: {x.shape}\") # 4, 3, 60, 56, 56\n",
    "\n",
    "        x = self.pool(F.relu(self.conv1(x)))\n",
    "        #print(f\"After conv1 shape: {x.shape}\") # 4, 8, 30, 28, 28\n",
    "\n",
    "        x = self.pool(F.relu(self.conv2(x)))\n",
    "        x = self.dropout1(x)\n",
    "        #print(f\"After conv2 shape: {x.shape}\") # 4, 16, 15, 14, 14\n",
    "\n",
    "        x = self.pool(F.relu(self.conv3(x)))\n",
    "        x = self.dropout2(x)\n",
    "        #print(f\"After conv3 shape: {x.shape}\") # 4, 32, 7, 7, 7\n",
    "\n",
    "        #x = self.pool(F.relu(self.conv4(x)))\n",
    "        #print(f\"After conv4 shape: {x.shape}\") # 4, 64, 3, 3, 3\n",
    "\n",
    "        # LSTM을 위한 준비: (batch_size, seq_len, features)\n",
    "        x = x.view(x.size(0), x.size(2), -1)  # x.size(0)은 배치 크기, Flatten the tensor\n",
    "        #print(f\"Before LSTM layers shape: {x.shape}\") # 4, 32*3*7*7\n",
    "\n",
    "        # LSTM을 통과\n",
    "        x, _ = self.lstm1(x)\n",
    "        x, _ = self.lstm2(x)\n",
    "        #print(f\"After LSTM layers shape: {x.shape}\")\n",
    "        x = x[:, -1, :]  # 시퀀스의 마지막 출력만 사용\n",
    "        #print(f\"시퀀스의 마지막 출력만 사용 이후 shape: {x.shape}\")\n",
    "        #x = F.relu(self.fc1(x))\n",
    "        #print(f\"After fc1 shape: {x.shape}\")\n",
    "        x = self.fc1(x)\n",
    "        x = self.dropout3(x)\n",
    "        x = self.fc2(x)\n",
    "        #print(f\"Output shape: {x.shape}\")\n",
    "        return x\n"
   ]
  },
  {
   "cell_type": "code",
   "execution_count": 19,
   "metadata": {},
   "outputs": [
    {
     "name": "stdout",
     "output_type": "stream",
     "text": [
      "torch.Size([144, 3, 90, 112, 112]) torch.Size([144])\n"
     ]
    }
   ],
   "source": [
    "#train_loader의 구성을 알고 싶다면\n",
    "for x, y in train_loader:\n",
    "    print(x.shape, y.shape)\n",
    "    break"
   ]
  },
  {
   "cell_type": "code",
   "execution_count": 46,
   "metadata": {
    "colab": {
     "base_uri": "https://localhost:8080/"
    },
    "executionInfo": {
     "elapsed": 39712,
     "status": "ok",
     "timestamp": 1710276630887,
     "user": {
      "displayName": "김성호",
      "userId": "00239474051960738712"
     },
     "user_tz": -540
    },
    "id": "0tnXFcwH3t0M",
    "outputId": "5da1a37b-8590-42be-ee61-d4ed93606995"
   },
   "outputs": [
    {
     "name": "stdout",
     "output_type": "stream",
     "text": [
      "Batch size: torch.Size([144, 3, 60, 56, 56])\n",
      "Input batch dimension after permutation: torch.Size([144, 3, 60, 56, 56])\n",
      "Before LSTM layers shape: torch.Size([144, 7, 1568])\n",
      "After LSTM layers shape: torch.Size([144, 7, 256])\n",
      "시퀀스의 마지막 출력만 사용 이후 shape: torch.Size([144, 256])\n",
      "Output shape: torch.Size([144, 2])\n",
      "Output shape: torch.Size([144, 2]), Labels shape: torch.Size([144])\n"
     ]
    }
   ],
   "source": [
    "# 디버깅: shape 확인\n",
    "device = torch.device(\"cuda\" if torch.cuda.is_available() else \"cpu\")\n",
    "model = LSTM3DCNN().to(device)\n",
    "#model = SimpleConvLSTMModel().to(device)\n",
    "for videos, labels in train_loader:\n",
    "    print(f\"Batch size: {videos.shape}\")\n",
    "    videos = videos.to(device)\n",
    "    print(f'Input batch dimension after permutation: {videos.shape}')\n",
    "    labels = labels.to(device)\n",
    "    outputs = model(videos)\n",
    "    print(f\"Output shape: {outputs.shape}, Labels shape: {labels.shape}\")\n",
    "    break  # 첫 번째 배치만 확인하고 중단"
   ]
  },
  {
   "cell_type": "code",
   "execution_count": 2,
   "metadata": {
    "colab": {
     "base_uri": "https://localhost:8080/"
    },
    "executionInfo": {
     "elapsed": 464,
     "status": "ok",
     "timestamp": 1710279548231,
     "user": {
      "displayName": "김성호",
      "userId": "00239474051960738712"
     },
     "user_tz": -540
    },
    "id": "8hU-rty3enEf",
    "outputId": "cc05e116-d3e7-4c6c-835c-f1c668bd77d9"
   },
   "outputs": [
    {
     "name": "stdout",
     "output_type": "stream",
     "text": [
      "True\n",
      "11.8\n"
     ]
    }
   ],
   "source": [
    "import torch\n",
    "print(torch.cuda.is_available())\n",
    "print(torch.version.cuda)\n",
    "\n",
    "torch.cuda.empty_cache()"
   ]
  },
  {
   "cell_type": "code",
   "execution_count": 3,
   "metadata": {},
   "outputs": [
    {
     "name": "stdout",
     "output_type": "stream",
     "text": [
      "Tue Mar 19 23:48:40 2024       \n",
      "+-----------------------------------------------------------------------------+\n",
      "| NVIDIA-SMI 525.147.05   Driver Version: 525.147.05   CUDA Version: 12.0     |\n",
      "|-------------------------------+----------------------+----------------------+\n",
      "| GPU  Name        Persistence-M| Bus-Id        Disp.A | Volatile Uncorr. ECC |\n",
      "| Fan  Temp  Perf  Pwr:Usage/Cap|         Memory-Usage | GPU-Util  Compute M. |\n",
      "|                               |                      |               MIG M. |\n",
      "|===============================+======================+======================|\n",
      "|   0  NVIDIA GeForce ...  Off  | 00000000:01:00.0 Off |                  N/A |\n",
      "| 31%   39C    P0   114W / 420W |      2MiB / 24576MiB |      0%      Default |\n",
      "|                               |                      |                  N/A |\n",
      "+-------------------------------+----------------------+----------------------+\n",
      "                                                                               \n",
      "+-----------------------------------------------------------------------------+\n",
      "| Processes:                                                                  |\n",
      "|  GPU   GI   CI        PID   Type   Process name                  GPU Memory |\n",
      "|        ID   ID                                                   Usage      |\n",
      "|=============================================================================|\n",
      "|  No running processes found                                                 |\n",
      "+-----------------------------------------------------------------------------+\n"
     ]
    }
   ],
   "source": [
    "!nvidia-smi"
   ]
  },
  {
   "cell_type": "code",
   "execution_count": 11,
   "metadata": {
    "colab": {
     "background_save": true,
     "base_uri": "https://localhost:8080/",
     "height": 603
    },
    "id": "j-kdPwhM3gQt"
   },
   "outputs": [
    {
     "name": "stderr",
     "output_type": "stream",
     "text": [
      "\u001b[34m\u001b[1mwandb\u001b[0m: \u001b[33mWARNING\u001b[0m Path /home/hyoju/바탕화면/RealForensics/data/Forensics/wandb/ wasn't writable, using system temp directory.\n",
      "Failed to detect the name of this notebook, you can set it manually with the WANDB_NOTEBOOK_NAME environment variable to enable code saving.\n",
      "wandb: WARNING Path /home/hyoju/바탕화면/RealForensics/data/Forensics/wandb/ wasn't writable, using system temp directory\n",
      "\u001b[34m\u001b[1mwandb\u001b[0m: \u001b[33mWARNING\u001b[0m Path /home/hyoju/바탕화면/RealForensics/data/Forensics/wandb/ wasn't writable, using system temp directory\n",
      "\u001b[34m\u001b[1mwandb\u001b[0m: Currently logged in as: \u001b[33mwoony\u001b[0m (\u001b[33msamjang\u001b[0m). Use \u001b[1m`wandb login --relogin`\u001b[0m to force relogin\n",
      "\u001b[34m\u001b[1mwandb\u001b[0m: \u001b[33mWARNING\u001b[0m If you're specifying your api key in code, ensure this code is not shared publicly.\n",
      "\u001b[34m\u001b[1mwandb\u001b[0m: \u001b[33mWARNING\u001b[0m Consider setting the WANDB_API_KEY environment variable, or running `wandb login` from the command line.\n",
      "\u001b[34m\u001b[1mwandb\u001b[0m: Appending key for api.wandb.ai to your netrc file: /home/daiv/.netrc\n",
      "\u001b[34m\u001b[1mwandb\u001b[0m: Currently logged in as: \u001b[33mtaho\u001b[0m (\u001b[33msamjang\u001b[0m). Use \u001b[1m`wandb login --relogin`\u001b[0m to force relogin\n"
     ]
    },
    {
     "data": {
      "text/html": [
       "Tracking run with wandb version 0.16.4"
      ],
      "text/plain": [
       "<IPython.core.display.HTML object>"
      ]
     },
     "metadata": {},
     "output_type": "display_data"
    },
    {
     "data": {
      "text/html": [
       "Run data is saved locally in <code>/tmp/wandb/run-20240319_235138-n57eqyoq</code>"
      ],
      "text/plain": [
       "<IPython.core.display.HTML object>"
      ]
     },
     "metadata": {},
     "output_type": "display_data"
    },
    {
     "data": {
      "text/html": [
       "Syncing run <strong><a href='https://wandb.ai/samjang/deepfake_classification/runs/n57eqyoq' target=\"_blank\">conv4_lstm1_1e-3(10,0.5)_120_144_112</a></strong> to <a href='https://wandb.ai/samjang/deepfake_classification' target=\"_blank\">Weights & Biases</a> (<a href='https://wandb.me/run' target=\"_blank\">docs</a>)<br/>"
      ],
      "text/plain": [
       "<IPython.core.display.HTML object>"
      ]
     },
     "metadata": {},
     "output_type": "display_data"
    },
    {
     "data": {
      "text/html": [
       " View project at <a href='https://wandb.ai/samjang/deepfake_classification' target=\"_blank\">https://wandb.ai/samjang/deepfake_classification</a>"
      ],
      "text/plain": [
       "<IPython.core.display.HTML object>"
      ]
     },
     "metadata": {},
     "output_type": "display_data"
    },
    {
     "data": {
      "text/html": [
       " View run at <a href='https://wandb.ai/samjang/deepfake_classification/runs/n57eqyoq' target=\"_blank\">https://wandb.ai/samjang/deepfake_classification/runs/n57eqyoq</a>"
      ],
      "text/plain": [
       "<IPython.core.display.HTML object>"
      ]
     },
     "metadata": {},
     "output_type": "display_data"
    },
    {
     "ename": "OutOfMemoryError",
     "evalue": "CUDA out of memory. Tried to allocate 6.46 GiB. GPU 0 has a total capacity of 23.69 GiB of which 4.27 GiB is free. Including non-PyTorch memory, this process has 19.42 GiB memory in use. Of the allocated memory 11.34 GiB is allocated by PyTorch, and 6.51 GiB is reserved by PyTorch but unallocated. If reserved but unallocated memory is large try setting PYTORCH_CUDA_ALLOC_CONF=expandable_segments:True to avoid fragmentation.  See documentation for Memory Management  (https://pytorch.org/docs/stable/notes/cuda.html#environment-variables)",
     "output_type": "error",
     "traceback": [
      "\u001b[0;31m---------------------------------------------------------------------------\u001b[0m",
      "\u001b[0;31mOutOfMemoryError\u001b[0m                          Traceback (most recent call last)",
      "Cell \u001b[0;32mIn[11], line 74\u001b[0m\n\u001b[1;32m     72\u001b[0m outputs \u001b[38;5;241m=\u001b[39m model(videos)\n\u001b[1;32m     73\u001b[0m loss \u001b[38;5;241m=\u001b[39m criterion(outputs, labels)\n\u001b[0;32m---> 74\u001b[0m \u001b[43mloss\u001b[49m\u001b[38;5;241;43m.\u001b[39;49m\u001b[43mbackward\u001b[49m\u001b[43m(\u001b[49m\u001b[43m)\u001b[49m\n\u001b[1;32m     75\u001b[0m optimizer\u001b[38;5;241m.\u001b[39mstep()\n\u001b[1;32m     77\u001b[0m train_loss \u001b[38;5;241m+\u001b[39m\u001b[38;5;241m=\u001b[39m loss\u001b[38;5;241m.\u001b[39mitem() \u001b[38;5;241m*\u001b[39m videos\u001b[38;5;241m.\u001b[39msize(\u001b[38;5;241m0\u001b[39m)\n",
      "File \u001b[0;32m~/anaconda3/envs/daiv/lib/python3.8/site-packages/torch/_tensor.py:522\u001b[0m, in \u001b[0;36mTensor.backward\u001b[0;34m(self, gradient, retain_graph, create_graph, inputs)\u001b[0m\n\u001b[1;32m    512\u001b[0m \u001b[38;5;28;01mif\u001b[39;00m has_torch_function_unary(\u001b[38;5;28mself\u001b[39m):\n\u001b[1;32m    513\u001b[0m     \u001b[38;5;28;01mreturn\u001b[39;00m handle_torch_function(\n\u001b[1;32m    514\u001b[0m         Tensor\u001b[38;5;241m.\u001b[39mbackward,\n\u001b[1;32m    515\u001b[0m         (\u001b[38;5;28mself\u001b[39m,),\n\u001b[0;32m   (...)\u001b[0m\n\u001b[1;32m    520\u001b[0m         inputs\u001b[38;5;241m=\u001b[39minputs,\n\u001b[1;32m    521\u001b[0m     )\n\u001b[0;32m--> 522\u001b[0m \u001b[43mtorch\u001b[49m\u001b[38;5;241;43m.\u001b[39;49m\u001b[43mautograd\u001b[49m\u001b[38;5;241;43m.\u001b[39;49m\u001b[43mbackward\u001b[49m\u001b[43m(\u001b[49m\n\u001b[1;32m    523\u001b[0m \u001b[43m    \u001b[49m\u001b[38;5;28;43mself\u001b[39;49m\u001b[43m,\u001b[49m\u001b[43m \u001b[49m\u001b[43mgradient\u001b[49m\u001b[43m,\u001b[49m\u001b[43m \u001b[49m\u001b[43mretain_graph\u001b[49m\u001b[43m,\u001b[49m\u001b[43m \u001b[49m\u001b[43mcreate_graph\u001b[49m\u001b[43m,\u001b[49m\u001b[43m \u001b[49m\u001b[43minputs\u001b[49m\u001b[38;5;241;43m=\u001b[39;49m\u001b[43minputs\u001b[49m\n\u001b[1;32m    524\u001b[0m \u001b[43m\u001b[49m\u001b[43m)\u001b[49m\n",
      "File \u001b[0;32m~/anaconda3/envs/daiv/lib/python3.8/site-packages/torch/autograd/__init__.py:266\u001b[0m, in \u001b[0;36mbackward\u001b[0;34m(tensors, grad_tensors, retain_graph, create_graph, grad_variables, inputs)\u001b[0m\n\u001b[1;32m    261\u001b[0m     retain_graph \u001b[38;5;241m=\u001b[39m create_graph\n\u001b[1;32m    263\u001b[0m \u001b[38;5;66;03m# The reason we repeat the same comment below is that\u001b[39;00m\n\u001b[1;32m    264\u001b[0m \u001b[38;5;66;03m# some Python versions print out the first line of a multi-line function\u001b[39;00m\n\u001b[1;32m    265\u001b[0m \u001b[38;5;66;03m# calls in the traceback and some print out the last line\u001b[39;00m\n\u001b[0;32m--> 266\u001b[0m \u001b[43mVariable\u001b[49m\u001b[38;5;241;43m.\u001b[39;49m\u001b[43m_execution_engine\u001b[49m\u001b[38;5;241;43m.\u001b[39;49m\u001b[43mrun_backward\u001b[49m\u001b[43m(\u001b[49m\u001b[43m  \u001b[49m\u001b[38;5;66;43;03m# Calls into the C++ engine to run the backward pass\u001b[39;49;00m\n\u001b[1;32m    267\u001b[0m \u001b[43m    \u001b[49m\u001b[43mtensors\u001b[49m\u001b[43m,\u001b[49m\n\u001b[1;32m    268\u001b[0m \u001b[43m    \u001b[49m\u001b[43mgrad_tensors_\u001b[49m\u001b[43m,\u001b[49m\n\u001b[1;32m    269\u001b[0m \u001b[43m    \u001b[49m\u001b[43mretain_graph\u001b[49m\u001b[43m,\u001b[49m\n\u001b[1;32m    270\u001b[0m \u001b[43m    \u001b[49m\u001b[43mcreate_graph\u001b[49m\u001b[43m,\u001b[49m\n\u001b[1;32m    271\u001b[0m \u001b[43m    \u001b[49m\u001b[43minputs\u001b[49m\u001b[43m,\u001b[49m\n\u001b[1;32m    272\u001b[0m \u001b[43m    \u001b[49m\u001b[43mallow_unreachable\u001b[49m\u001b[38;5;241;43m=\u001b[39;49m\u001b[38;5;28;43;01mTrue\u001b[39;49;00m\u001b[43m,\u001b[49m\n\u001b[1;32m    273\u001b[0m \u001b[43m    \u001b[49m\u001b[43maccumulate_grad\u001b[49m\u001b[38;5;241;43m=\u001b[39;49m\u001b[38;5;28;43;01mTrue\u001b[39;49;00m\u001b[43m,\u001b[49m\n\u001b[1;32m    274\u001b[0m \u001b[43m\u001b[49m\u001b[43m)\u001b[49m\n",
      "\u001b[0;31mOutOfMemoryError\u001b[0m: CUDA out of memory. Tried to allocate 6.46 GiB. GPU 0 has a total capacity of 23.69 GiB of which 4.27 GiB is free. Including non-PyTorch memory, this process has 19.42 GiB memory in use. Of the allocated memory 11.34 GiB is allocated by PyTorch, and 6.51 GiB is reserved by PyTorch but unallocated. If reserved but unallocated memory is large try setting PYTORCH_CUDA_ALLOC_CONF=expandable_segments:True to avoid fragmentation.  See documentation for Memory Management  (https://pytorch.org/docs/stable/notes/cuda.html#environment-variables)"
     ]
    }
   ],
   "source": [
    "import torch.optim as optim\n",
    "from adamp import AdamP\n",
    "from torch.optim.lr_scheduler import LambdaLR, StepLR\n",
    "import wandb\n",
    "\n",
    "learning_rate=1e-3\n",
    "num_epochs = 100\n",
    "train_losses = []\n",
    "val_losses = []\n",
    "train_accuracies = []\n",
    "val_accuracies = []\n",
    "\n",
    "# training setting\n",
    "device = torch.device(\"cuda\" if torch.cuda.is_available() else \"cpu\")\n",
    "model = Simple3DCNN().to(device)\n",
    "#model = SimpleConvLSTMModel().to(device)\n",
    "#model = LSTM3DCNN().to(device)\n",
    "#model = CSNResNet101().to(device)\n",
    "#model = EfficientViTForVideo(backbone_cfg, head_cfg, frames_limit).to(device)\n",
    "\n",
    "criterion = nn.CrossEntropyLoss()\n",
    "optimizer = AdamP(model.parameters(), lr=learning_rate)\n",
    "#scheduler = LambdaLR(optimizer, lr_lambda=lambda epoch: 0.9 ** (epoch // 5))\n",
    "scheduler = StepLR(optimizer, step_size=10, gamma=0.5)\n",
    " \n",
    "\n",
    "# early stopping\n",
    "min_val_loss = np.inf\n",
    "patience = 20\n",
    "patience_counter = 0\n",
    "\n",
    "'''\n",
    "wandb.init(\n",
    "    project='deepfake_classification',\n",
    "    entity='samjang',\n",
    "    name='my_custom_run_name',\n",
    "    tags=['tag1', 'tag2'],\n",
    "    notes='my custom run for deepfake classification.'\n",
    ")\n",
    "'''\n",
    "\n",
    "# WandB에 로그인 (API key)\n",
    "wandb.login(key=\"8dd8fb438a7e71a9afd94334dd57390f73db768c\")\n",
    "\n",
    "# wandb 초기화\n",
    "wandb.init(project='deepfake_classification', entity='samjang', name='conv4_lstm1_1e-3(10,0.5)_120_144_112')\n",
    "\n",
    "\n",
    "# wandb config 기록 (Option)\n",
    "wandb.config = {\n",
    "  \"learning_rate\": learning_rate,\n",
    "  \"epochs\": num_epochs,\n",
    "  \"batch_size\": batch_size\n",
    "}\n",
    "\n",
    "for epoch in range(num_epochs):\n",
    "    model.train()\n",
    "    train_loss = 0.0\n",
    "    train_correct = 0\n",
    "    total_train = 0\n",
    "\n",
    "    for videos, labels in train_loader:\n",
    "        #print(f'Input batch dimension: {videos.shape}') # [4, 112, 270, 3, 112] (batch_size, width, depth, channels, height)\n",
    "        #print(f'Labels batch dimension: {labels.shape}')\n",
    "        #break  # 첫 배치만 확인하고 반복 중지\n",
    "\n",
    "        # DataLoader로부터의 출력: (batch_size, depth, height, channels, width)\n",
    "        videos = videos.to(device) # (batch_size, C, D, H, W)로 변경\n",
    "        labels = labels.to(device)\n",
    "\n",
    "        optimizer.zero_grad()\n",
    "        outputs = model(videos)\n",
    "        loss = criterion(outputs, labels)\n",
    "        loss.backward()\n",
    "        optimizer.step()\n",
    "\n",
    "        train_loss += loss.item() * videos.size(0)\n",
    "        train_correct += (outputs.argmax(1) == labels).sum().item()\n",
    "        total_train += labels.size(0)\n",
    "    \n",
    "    scheduler.step()  # 학습률 업데이트\n",
    "    wandb.log({\"train_loss\": train_loss / total_train, \"train_accuracy\": train_correct / total_train})\n",
    "    train_losses.append(train_loss / total_train)\n",
    "    train_accuracies.append(train_correct / total_train)\n",
    "    \n",
    "    model.eval()\n",
    "    val_loss = 0.0\n",
    "    val_correct = 0\n",
    "    total_val = 0\n",
    "\n",
    "    with torch.no_grad():\n",
    "        for videos, labels in val_loader:\n",
    "            videos = videos.to(device)\n",
    "            labels = labels.to(device)\n",
    "\n",
    "            outputs = model(videos)\n",
    "            loss = criterion(outputs, labels)\n",
    "            val_loss += loss.item() * videos.size(0)\n",
    "            val_correct += (outputs.argmax(1) == labels).sum().item()\n",
    "            total_val += labels.size(0)\n",
    "\n",
    "    # early stopping condition\n",
    "    if val_loss < min_val_loss:\n",
    "        min_val_loss = val_loss\n",
    "        patience_counter = 0\n",
    "    else:\n",
    "        patience_counter += 1\n",
    "        if patience_counter >= patience:\n",
    "            print(f'Early stopping triggered after {epoch + 1} epochs.')\n",
    "            break\n",
    "\n",
    "    wandb.log({\"val_loss\": val_loss / total_val, \"val_accuracy\": val_correct / total_val})\n",
    "    val_losses.append(val_loss / total_val)\n",
    "    val_accuracies.append(val_correct / total_val)\n",
    "\n",
    "    # loss, acc, lr(if changed by scheduler)\n",
    "    print(f'Epoch {epoch+1}, Train Loss: {train_losses[-1]:.4f}, Train Accuracy: {train_accuracies[-1]:.4f}, Val Loss: {val_losses[-1]:.4f}, Val Accuracy: {val_accuracies[-1]:.4f}') #, LR: {scheduler.get_last_lr()[0]}'\n",
    "\n",
    "wandb.finish()"
   ]
  },
  {
   "cell_type": "code",
   "execution_count": 15,
   "metadata": {
    "colab": {
     "base_uri": "https://localhost:8080/",
     "height": 438
    },
    "executionInfo": {
     "elapsed": 1195,
     "status": "ok",
     "timestamp": 1710248938586,
     "user": {
      "displayName": "김성호",
      "userId": "00239474051960738712"
     },
     "user_tz": -540
    },
    "id": "ePqLdBbe3gIk",
    "outputId": "41e10ef0-7682-4f53-f1ee-1317a0363a36"
   },
   "outputs": [
    {
     "data": {
      "image/png": "[encoded data removed]",
      "text/plain": [
       "<Figure size 1200x600 with 2 Axes>"
      ]
     },
     "metadata": {},
     "output_type": "display_data"
    }
   ],
   "source": [
    "import matplotlib.pyplot as plt\n",
    "\n",
    "# loss, accuracy visualization\n",
    "plt.figure(figsize=(12, 6))\n",
    "\n",
    "plt.subplot(1, 2, 1)\n",
    "plt.plot(train_losses, label='Train Loss')\n",
    "plt.plot(val_losses, label='Validation Loss')\n",
    "plt.title('Training and Validation Loss')\n",
    "plt.xlabel('Epoch')\n",
    "plt.ylabel('Loss')\n",
    "plt.legend()\n",
    "\n",
    "plt.subplot(1, 2, 2)\n",
    "plt.plot(train_accuracies, label='Train Accuracy')\n",
    "plt.plot(val_accuracies, label='Validation Accuracy')\n",
    "plt.title('Training and Validation Accuracy')\n",
    "plt.xlabel('Epoch')\n",
    "plt.ylabel('Accuracy')\n",
    "plt.legend()\n",
    "\n",
    "plt.tight_layout()\n",
    "plt.show()"
   ]
  },
  {
   "cell_type": "code",
   "execution_count": null,
   "metadata": {
    "id": "e5fbAcccSv-_"
   },
   "outputs": [],
   "source": []
  }
 ],
 "metadata": {
  "accelerator": "GPU",
  "colab": {
   "gpuType": "T4",
   "name": "",
   "version": ""
  },
  "kernelspec": {
   "display_name": "daiv",
   "language": "python",
   "name": "python3"
  },
  "language_info": {
   "codemirror_mode": {
    "name": "ipython",
    "version": 3
   },
   "file_extension": ".py",
   "mimetype": "text/x-python",
   "name": "python",
   "nbconvert_exporter": "python",
   "pygments_lexer": "ipython3",
   "version": "3.8.18"
  },
  "widgets": {
   "application/vnd.jupyter.widget-state+json": {
    "12549c6d70624e63a7f361b367586f81": {
     "model_module": "@jupyter-widgets/base",
     "model_module_version": "1.2.0",
     "model_name": "LayoutModel",
     "state": {
      "_model_module": "@jupyter-widgets/base",
      "_model_module_version": "1.2.0",
      "_model_name": "LayoutModel",
      "_view_count": null,
      "_view_module": "@jupyter-widgets/base",
      "_view_module_version": "1.2.0",
      "_view_name": "LayoutView",
      "align_content": null,
      "align_items": null,
      "align_self": null,
      "border": null,
      "bottom": null,
      "display": null,
      "flex": null,
      "flex_flow": null,
      "grid_area": null,
      "grid_auto_columns": null,
      "grid_auto_flow": null,
      "grid_auto_rows": null,
      "grid_column": null,
      "grid_gap": null,
      "grid_row": null,
      "grid_template_areas": null,
      "grid_template_columns": null,
      "grid_template_rows": null,
      "height": null,
      "justify_content": null,
      "justify_items": null,
      "left": null,
      "margin": null,
      "max_height": null,
      "max_width": null,
      "min_height": null,
      "min_width": null,
      "object_fit": null,
      "object_position": null,
      "order": null,
      "overflow": null,
      "overflow_x": null,
      "overflow_y": null,
      "padding": null,
      "right": null,
      "top": null,
      "visibility": null,
      "width": null
     }
    },
    "2056fe00f1154d6885b5adee13efe3c4": {
     "model_module": "@jupyter-widgets/controls",
     "model_module_version": "1.5.0",
     "model_name": "FloatProgressModel",
     "state": {
      "_dom_classes": [],
      "_model_module": "@jupyter-widgets/controls",
      "_model_module_version": "1.5.0",
      "_model_name": "FloatProgressModel",
      "_view_count": null,
      "_view_module": "@jupyter-widgets/controls",
      "_view_module_version": "1.5.0",
      "_view_name": "ProgressView",
      "bar_style": "",
      "description": "",
      "description_tooltip": null,
      "layout": "IPY_MODEL_ebeefdca2df3494c9bfa1b941ba2c5bc",
      "max": 1,
      "min": 0,
      "orientation": "horizontal",
      "style": "IPY_MODEL_d698da1f1d074b4aa145dd6807c448fd",
      "value": 1
     }
    },
    "361aff98e1dc439c938e26aec8aaa924": {
     "model_module": "@jupyter-widgets/controls",
     "model_module_version": "1.5.0",
     "model_name": "VBoxModel",
     "state": {
      "_dom_classes": [],
      "_model_module": "@jupyter-widgets/controls",
      "_model_module_version": "1.5.0",
      "_model_name": "VBoxModel",
      "_view_count": null,
      "_view_module": "@jupyter-widgets/controls",
      "_view_module_version": "1.5.0",
      "_view_name": "VBoxView",
      "box_style": "",
      "children": [
       "IPY_MODEL_f9e05efd6b8b4d85965d716ab6bdc4aa",
       "IPY_MODEL_2056fe00f1154d6885b5adee13efe3c4"
      ],
      "layout": "IPY_MODEL_12549c6d70624e63a7f361b367586f81"
     }
    },
    "8dfafb8fed1a4fb78ac0d9b10e94668f": {
     "model_module": "@jupyter-widgets/base",
     "model_module_version": "1.2.0",
     "model_name": "LayoutModel",
     "state": {
      "_model_module": "@jupyter-widgets/base",
      "_model_module_version": "1.2.0",
      "_model_name": "LayoutModel",
      "_view_count": null,
      "_view_module": "@jupyter-widgets/base",
      "_view_module_version": "1.2.0",
      "_view_name": "LayoutView",
      "align_content": null,
      "align_items": null,
      "align_self": null,
      "border": null,
      "bottom": null,
      "display": null,
      "flex": null,
      "flex_flow": null,
      "grid_area": null,
      "grid_auto_columns": null,
      "grid_auto_flow": null,
      "grid_auto_rows": null,
      "grid_column": null,
      "grid_gap": null,
      "grid_row": null,
      "grid_template_areas": null,
      "grid_template_columns": null,
      "grid_template_rows": null,
      "height": null,
      "justify_content": null,
      "justify_items": null,
      "left": null,
      "margin": null,
      "max_height": null,
      "max_width": null,
      "min_height": null,
      "min_width": null,
      "object_fit": null,
      "object_position": null,
      "order": null,
      "overflow": null,
      "overflow_x": null,
      "overflow_y": null,
      "padding": null,
      "right": null,
      "top": null,
      "visibility": null,
      "width": null
     }
    },
    "9fca4ad217864c3d96313173dbd0065c": {
     "model_module": "@jupyter-widgets/controls",
     "model_module_version": "1.5.0",
     "model_name": "DescriptionStyleModel",
     "state": {
      "_model_module": "@jupyter-widgets/controls",
      "_model_module_version": "1.5.0",
      "_model_name": "DescriptionStyleModel",
      "_view_count": null,
      "_view_module": "@jupyter-widgets/base",
      "_view_module_version": "1.2.0",
      "_view_name": "StyleView",
      "description_width": ""
     }
    },
    "d698da1f1d074b4aa145dd6807c448fd": {
     "model_module": "@jupyter-widgets/controls",
     "model_module_version": "1.5.0",
     "model_name": "ProgressStyleModel",
     "state": {
      "_model_module": "@jupyter-widgets/controls",
      "_model_module_version": "1.5.0",
      "_model_name": "ProgressStyleModel",
      "_view_count": null,
      "_view_module": "@jupyter-widgets/base",
      "_view_module_version": "1.2.0",
      "_view_name": "StyleView",
      "bar_color": null,
      "description_width": ""
     }
    },
    "ebeefdca2df3494c9bfa1b941ba2c5bc": {
     "model_module": "@jupyter-widgets/base",
     "model_module_version": "1.2.0",
     "model_name": "LayoutModel",
     "state": {
      "_model_module": "@jupyter-widgets/base",
      "_model_module_version": "1.2.0",
      "_model_name": "LayoutModel",
      "_view_count": null,
      "_view_module": "@jupyter-widgets/base",
      "_view_module_version": "1.2.0",
      "_view_name": "LayoutView",
      "align_content": null,
      "align_items": null,
      "align_self": null,
      "border": null,
      "bottom": null,
      "display": null,
      "flex": null,
      "flex_flow": null,
      "grid_area": null,
      "grid_auto_columns": null,
      "grid_auto_flow": null,
      "grid_auto_rows": null,
      "grid_column": null,
      "grid_gap": null,
      "grid_row": null,
      "grid_template_areas": null,
      "grid_template_columns": null,
      "grid_template_rows": null,
      "height": null,
      "justify_content": null,
      "justify_items": null,
      "left": null,
      "margin": null,
      "max_height": null,
      "max_width": null,
      "min_height": null,
      "min_width": null,
      "object_fit": null,
      "object_position": null,
      "order": null,
      "overflow": null,
      "overflow_x": null,
      "overflow_y": null,
      "padding": null,
      "right": null,
      "top": null,
      "visibility": null,
      "width": null
     }
    },
    "f9e05efd6b8b4d85965d716ab6bdc4aa": {
     "model_module": "@jupyter-widgets/controls",
     "model_module_version": "1.5.0",
     "model_name": "LabelModel",
     "state": {
      "_dom_classes": [],
      "_model_module": "@jupyter-widgets/controls",
      "_model_module_version": "1.5.0",
      "_model_name": "LabelModel",
      "_view_count": null,
      "_view_module": "@jupyter-widgets/controls",
      "_view_module_version": "1.5.0",
      "_view_name": "LabelView",
      "description": "",
      "description_tooltip": null,
      "layout": "IPY_MODEL_8dfafb8fed1a4fb78ac0d9b10e94668f",
      "placeholder": "​",
      "style": "IPY_MODEL_9fca4ad217864c3d96313173dbd0065c",
      "value": "0.011 MB of 0.011 MB uploaded\r"
     }
    }
   }
  }
 },
 "nbformat": 4,
 "nbformat_minor": 4
}
